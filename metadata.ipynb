{
 "cells": [
  {
   "cell_type": "code",
   "execution_count": 12,
   "metadata": {},
   "outputs": [],
   "source": [
    "import os\n",
    "from utils import srt_to_transcript, transcript_to_srt\n",
    "\n",
    "ROOT = os.getcwd()\n",
    "\n",
    "transcriptDir = os.path.join(ROOT, 'john_lines')\n",
    "\n",
    "transcriptFiles = [\n",
    "    (os.path.join(transcriptDir, file), file.replace('.srt', ''))\n",
    "    for file in sorted(os.listdir(transcriptDir))\n",
    "]"
   ]
  },
  {
   "cell_type": "code",
   "execution_count": null,
   "metadata": {},
   "outputs": [],
   "source": [
    "lines = []\n",
    "\n",
    "for filepath, episode in transcriptFiles:\n",
    "    transcript = srt_to_transcript(filepath)\n",
    "    for idx, start, end, speaker, speech in transcript:\n",
    "        line = f\"omnibus_{episode}_{start}_{end}_{speaker}.wav|{speech}\"\n",
    "        lines.append(line)"
   ]
  },
  {
   "cell_type": "code",
   "execution_count": 14,
   "metadata": {},
   "outputs": [],
   "source": [
    "f = open('metadata.txt', 'w')\n",
    "f.write(\"\\n\".join(lines))\n",
    "f.close()"
   ]
  }
 ],
 "metadata": {
  "kernelspec": {
   "display_name": "speech",
   "language": "python",
   "name": "python3"
  },
  "language_info": {
   "codemirror_mode": {
    "name": "ipython",
    "version": 3
   },
   "file_extension": ".py",
   "mimetype": "text/x-python",
   "name": "python",
   "nbconvert_exporter": "python",
   "pygments_lexer": "ipython3",
   "version": "3.12.3"
  }
 },
 "nbformat": 4,
 "nbformat_minor": 2
}
