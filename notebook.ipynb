{
 "cells": [
  {
   "cell_type": "code",
   "execution_count": 28,
   "metadata": {},
   "outputs": [],
   "source": [
    "import nemo.collections.asr as nemo_asr\n",
    "import logging\n",
    "\n",
    "logging.getLogger('nemo_logger').setLevel(logging.ERROR)\n",
    "\n",
    "speaker_model = nemo_asr.models.EncDecSpeakerLabelModel.from_pretrained(\n",
    "    \"nvidia/speakerverification_en_titanet_large\"\n",
    ")"
   ]
  },
  {
   "cell_type": "code",
   "execution_count": 29,
   "metadata": {},
   "outputs": [],
   "source": [
    "import os\n",
    "import random\n",
    "\n",
    "ROOT = os.getcwd()\n",
    "\n",
    "reference = os.path.join(ROOT, \"john.wav\")\n",
    "\n",
    "dir = os.path.join(ROOT, \"split_wavs\")\n",
    "\n",
    "episodes = [\n",
    "    (os.path.join(dir, showname, episode), episode)\n",
    "    for showname in sorted(os.listdir(dir))\n",
    "    for episode in sorted(os.listdir(os.path.join(dir, showname)))\n",
    "    if \".DS_Store\" not in episode\n",
    "]"
   ]
  },
  {
   "cell_type": "code",
   "execution_count": 30,
   "metadata": {},
   "outputs": [],
   "source": [
    "def reference_likleyhood(reference, samples):\n",
    "    results = 0\n",
    "    for sample in samples:\n",
    "        try:\n",
    "            result = speaker_model.verify_speakers(reference, sample)\n",
    "            results = results + result\n",
    "        except:\n",
    "            print(sample)\n",
    "    return results / 10\n",
    "\n",
    "\n",
    "def getReferenceLabel(reference_filepath, sample_filepaths):\n",
    "    speaker0 = [file for file in sample_filepaths if \"Speaker 0\" in file]\n",
    "    speaker1 = [file for file in sample_filepaths if \"Speaker 1\" in file]\n",
    "    randomized0 = random.sample(speaker0, len(speaker0))[:10]\n",
    "    randomized1 = random.sample(speaker1, len(speaker1))[:10]\n",
    "    result0 = reference_likleyhood(reference_filepath, randomized0)\n",
    "    result1 = reference_likleyhood(reference_filepath, randomized1)\n",
    "    if result0 > result1:\n",
    "        return \"Speaker 0\"\n",
    "    else:\n",
    "        return \"Speaker 1\""
   ]
  },
  {
   "cell_type": "code",
   "execution_count": 31,
   "metadata": {},
   "outputs": [],
   "source": [
    "labels = []\n",
    "for episodeDir, episode in episodes:\n",
    "    files = [os.path.join(episodeDir, file) for file in os.listdir(episodeDir) if \".DS_Store\" not in file]\n",
    "    speaker = getReferenceLabel(reference, files)\n",
    "    labels.append(f\"{episode}_-_{speaker}\")\n",
    "    for file in os.listdir(episodeDir):\n",
    "        if speaker not in file:\n",
    "            filepath = os.path.join(episodeDir, file)\n",
    "            os.remove(filepath)\n",
    "\n",
    "f = open('omnibus_speakers.txt', 'w')\n",
    "f.write(\"\\n\".join(labels))\n",
    "f.close()"
   ]
  },
  {
   "cell_type": "code",
   "execution_count": 42,
   "metadata": {},
   "outputs": [],
   "source": [
    "from utils import srt_to_transcript, transcript_to_srt\n",
    "\n",
    "labels_dict = dict(\n",
    "    [\n",
    "    (line.split('_-_')[0], line.split('_-_')[1])\n",
    "    for line in labels\n",
    "]\n",
    ")\n",
    "\n",
    "transcriptDir = os.path.join(ROOT, 'transcripts', 'omnibus')\n",
    "\n",
    "transcriptFiles = [\n",
    "    (os.path.join(transcriptDir, file), file.split('_-_')[0])\n",
    "    for file in os.listdir(transcriptDir)\n",
    "]\n",
    "\n",
    "os.makedirs(os.path.join(ROOT, 'john_lines'), exist_ok=True)\n",
    "\n",
    "for filepath, episode in transcriptFiles:\n",
    "    transcript = srt_to_transcript(filepath)\n",
    "    john_label = labels_dict[episode]\n",
    "    john_lines = [\n",
    "        (idx, start, end, speaker, speech)\n",
    "        for idx, start, end,  speaker, speech in transcript\n",
    "        if john_label in speaker\n",
    "    ]\n",
    "    srt = transcript_to_srt(john_lines)\n",
    "    outpath = os.path.join(ROOT, 'john_lines', f\"{episode}.srt\")\n",
    "    f = open(outpath, 'w')\n",
    "    f.write(srt)\n",
    "    f.close()"
   ]
  }
 ],
 "metadata": {
  "kernelspec": {
   "display_name": "speech",
   "language": "python",
   "name": "python3"
  },
  "language_info": {
   "codemirror_mode": {
    "name": "ipython",
    "version": 3
   },
   "file_extension": ".py",
   "mimetype": "text/x-python",
   "name": "python",
   "nbconvert_exporter": "python",
   "pygments_lexer": "ipython3",
   "version": "3.12.3"
  }
 },
 "nbformat": 4,
 "nbformat_minor": 2
}
